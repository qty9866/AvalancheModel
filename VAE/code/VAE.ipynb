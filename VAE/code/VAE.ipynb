{
 "cells": [
  {
   "cell_type": "markdown",
   "metadata": {},
   "source": [
    "### smet文件转换为csv文件"
   ]
  },
  {
   "cell_type": "code",
   "execution_count": 2,
   "metadata": {},
   "outputs": [],
   "source": [
    "import os\n",
    "import pandas as pd\n",
    "\n",
    "input_folder = '/home/develop/VAE/data/orgin/'\n",
    "output_folder = '/home/develop/VAE/data/csvwithHeader/'\n",
    "\n",
    "if not os.path.exists(output_folder):\n",
    "    os.makedirs(output_folder)\n",
    "\n",
    "smet_files = [f for f in os.listdir(input_folder) if f.endswith('.smet')]\n",
    "\n",
    "for smet_file in smet_files:\n",
    "    smet_file_path = os.path.join(input_folder, smet_file)\n",
    "\n",
    "    try:\n",
    "        data = pd.read_csv(smet_file_path, sep='\\t', header=None)\n",
    "        output_csv_path = os.path.join(output_folder, smet_file.replace('.smet', '.csv'))\n",
    "        data.to_csv(output_csv_path, index=False)\n",
    "    except Exception as e:\n",
    "        print(\"转换完成\")"
   ]
  },
  {
   "cell_type": "markdown",
   "metadata": {},
   "source": [
    "### 去除头部Header"
   ]
  },
  {
   "cell_type": "code",
   "execution_count": 3,
   "metadata": {},
   "outputs": [
    {
     "name": "stdout",
     "output_type": "stream",
     "text": [
      "处理并保存文件: ceshi_temp.csv\n",
      "处理并保存文件: ceshi.csv\n",
      "处理并保存文件: ceshi_station.csv\n",
      "处理并保存文件: ceshi_prec.csv\n",
      "处理并保存文件: ceshi_wind.csv\n"
     ]
    }
   ],
   "source": [
    "import os\n",
    "\n",
    "# 输入和输出目录\n",
    "input_dir = '/home/develop/VAE/data/csvwithHeader/'\n",
    "output_dir = '/home/develop/VAE/data/csv/'\n",
    "\n",
    "# 确保输出目录存在\n",
    "os.makedirs(output_dir, exist_ok=True)\n",
    "\n",
    "# 遍历输入目录中的所有.csv文件\n",
    "for filename in os.listdir(input_dir):\n",
    "    if filename.endswith('.csv'):\n",
    "        input_filepath = os.path.join(input_dir, filename)\n",
    "        \n",
    "        # 打开当前CSV文件并读取内容\n",
    "        with open(input_filepath, 'r') as file:\n",
    "            lines = file.readlines()\n",
    "\n",
    "        # 查找 [DATA] 行的位置\n",
    "        start_index = None\n",
    "        for i, line in enumerate(lines):\n",
    "            if '[DATA]' in line:\n",
    "                start_index = i + 1  # 从[DATA]之后开始提取\n",
    "                break\n",
    "\n",
    "        # 如果找到了[DATA]部分\n",
    "        if start_index is not None:\n",
    "            # 提取从[DATA]行之后的数据\n",
    "            data_to_keep = lines[start_index:]\n",
    "            \n",
    "            # 定义输出文件的路径\n",
    "            output_filepath = os.path.join(output_dir, filename)\n",
    "            \n",
    "            # 将提取的数据写入新的文件\n",
    "            with open(output_filepath, 'w') as output_file:\n",
    "                output_file.writelines(data_to_keep)\n",
    "            \n",
    "            print(f\"处理并保存文件: {filename}\")\n",
    "        else:\n",
    "            print(f\"文件 {filename} 中没有找到 [DATA] 标签\")\n"
   ]
  },
  {
   "cell_type": "markdown",
   "metadata": {},
   "source": [
    "### 删除时间戳"
   ]
  },
  {
   "cell_type": "code",
   "execution_count": 4,
   "metadata": {},
   "outputs": [
    {
     "name": "stdout",
     "output_type": "stream",
     "text": [
      "已处理并覆盖文件: /home/develop/VAE/data/csv/final_prec.csv\n",
      "已处理并覆盖文件: /home/develop/VAE/data/csv/ceshi_scaled.csv\n",
      "已处理并覆盖文件: /home/develop/VAE/data/csv/ceshi_temp.csv\n",
      "已处理并覆盖文件: /home/develop/VAE/data/csv/ceshi_temp_normalized.csv\n",
      "已处理并覆盖文件: /home/develop/VAE/data/csv/test_prec.csv\n",
      "已处理并覆盖文件: /home/develop/VAE/data/csv/ceshi.csv\n",
      "已处理并覆盖文件: /home/develop/VAE/data/csv/ceshi_station.csv\n",
      "已处理并覆盖文件: /home/develop/VAE/data/csv/ceshi_prec.csv\n",
      "已处理并覆盖文件: /home/develop/VAE/data/csv/test.csv\n"
     ]
    },
    {
     "name": "stderr",
     "output_type": "stream",
     "text": [
      "/tmp/ipykernel_2380444/634167452.py:13: FutureWarning: The 'delim_whitespace' keyword in pd.read_csv is deprecated and will be removed in a future version. Use ``sep='\\s+'`` instead\n",
      "  df = pd.read_csv(file_path, delim_whitespace=True, header=None)\n",
      "/tmp/ipykernel_2380444/634167452.py:13: FutureWarning: The 'delim_whitespace' keyword in pd.read_csv is deprecated and will be removed in a future version. Use ``sep='\\s+'`` instead\n",
      "  df = pd.read_csv(file_path, delim_whitespace=True, header=None)\n",
      "/tmp/ipykernel_2380444/634167452.py:13: FutureWarning: The 'delim_whitespace' keyword in pd.read_csv is deprecated and will be removed in a future version. Use ``sep='\\s+'`` instead\n",
      "  df = pd.read_csv(file_path, delim_whitespace=True, header=None)\n",
      "/tmp/ipykernel_2380444/634167452.py:13: FutureWarning: The 'delim_whitespace' keyword in pd.read_csv is deprecated and will be removed in a future version. Use ``sep='\\s+'`` instead\n",
      "  df = pd.read_csv(file_path, delim_whitespace=True, header=None)\n",
      "/tmp/ipykernel_2380444/634167452.py:13: FutureWarning: The 'delim_whitespace' keyword in pd.read_csv is deprecated and will be removed in a future version. Use ``sep='\\s+'`` instead\n",
      "  df = pd.read_csv(file_path, delim_whitespace=True, header=None)\n",
      "/tmp/ipykernel_2380444/634167452.py:13: FutureWarning: The 'delim_whitespace' keyword in pd.read_csv is deprecated and will be removed in a future version. Use ``sep='\\s+'`` instead\n",
      "  df = pd.read_csv(file_path, delim_whitespace=True, header=None)\n",
      "/tmp/ipykernel_2380444/634167452.py:13: FutureWarning: The 'delim_whitespace' keyword in pd.read_csv is deprecated and will be removed in a future version. Use ``sep='\\s+'`` instead\n",
      "  df = pd.read_csv(file_path, delim_whitespace=True, header=None)\n",
      "/tmp/ipykernel_2380444/634167452.py:13: FutureWarning: The 'delim_whitespace' keyword in pd.read_csv is deprecated and will be removed in a future version. Use ``sep='\\s+'`` instead\n",
      "  df = pd.read_csv(file_path, delim_whitespace=True, header=None)\n",
      "/tmp/ipykernel_2380444/634167452.py:13: FutureWarning: The 'delim_whitespace' keyword in pd.read_csv is deprecated and will be removed in a future version. Use ``sep='\\s+'`` instead\n",
      "  df = pd.read_csv(file_path, delim_whitespace=True, header=None)\n",
      "/tmp/ipykernel_2380444/634167452.py:13: FutureWarning: The 'delim_whitespace' keyword in pd.read_csv is deprecated and will be removed in a future version. Use ``sep='\\s+'`` instead\n",
      "  df = pd.read_csv(file_path, delim_whitespace=True, header=None)\n",
      "/tmp/ipykernel_2380444/634167452.py:13: FutureWarning: The 'delim_whitespace' keyword in pd.read_csv is deprecated and will be removed in a future version. Use ``sep='\\s+'`` instead\n",
      "  df = pd.read_csv(file_path, delim_whitespace=True, header=None)\n",
      "/tmp/ipykernel_2380444/634167452.py:13: FutureWarning: The 'delim_whitespace' keyword in pd.read_csv is deprecated and will be removed in a future version. Use ``sep='\\s+'`` instead\n",
      "  df = pd.read_csv(file_path, delim_whitespace=True, header=None)\n"
     ]
    },
    {
     "name": "stdout",
     "output_type": "stream",
     "text": [
      "已处理并覆盖文件: /home/develop/VAE/data/csv/final_temp.csv\n",
      "已处理并覆盖文件: /home/develop/VAE/data/csv/ceshi_prec_normalized.csv\n",
      "已处理并覆盖文件: /home/develop/VAE/data/csv/test_temp.csv\n",
      "已处理并覆盖文件: /home/develop/VAE/data/csv/final.csv\n",
      "已处理并覆盖文件: /home/develop/VAE/data/csv/ceshi_normalized.csv\n",
      "已处理并覆盖文件: /home/develop/VAE/data/csv/ceshi_wind.csv\n"
     ]
    },
    {
     "name": "stderr",
     "output_type": "stream",
     "text": [
      "/tmp/ipykernel_2380444/634167452.py:13: FutureWarning: The 'delim_whitespace' keyword in pd.read_csv is deprecated and will be removed in a future version. Use ``sep='\\s+'`` instead\n",
      "  df = pd.read_csv(file_path, delim_whitespace=True, header=None)\n",
      "/tmp/ipykernel_2380444/634167452.py:13: FutureWarning: The 'delim_whitespace' keyword in pd.read_csv is deprecated and will be removed in a future version. Use ``sep='\\s+'`` instead\n",
      "  df = pd.read_csv(file_path, delim_whitespace=True, header=None)\n",
      "/tmp/ipykernel_2380444/634167452.py:13: FutureWarning: The 'delim_whitespace' keyword in pd.read_csv is deprecated and will be removed in a future version. Use ``sep='\\s+'`` instead\n",
      "  df = pd.read_csv(file_path, delim_whitespace=True, header=None)\n"
     ]
    }
   ],
   "source": [
    "import os\n",
    "import pandas as pd\n",
    "\n",
    "\n",
    "input_folder = \"/home/develop/VAE/data/csv/\"\n",
    "csv_files = [f for f in os.listdir(input_folder) if f.endswith(\".csv\")]\n",
    "\n",
    "for file in csv_files:\n",
    "    file_path = os.path.join(input_folder, file)\n",
    "\n",
    "    try:\n",
    "        # 读取文件，指定分隔符为空格\n",
    "        df = pd.read_csv(file_path, delim_whitespace=True, header=None)\n",
    "        df = df.iloc[:, 1:]  # 删除第一列\n",
    "            # 覆盖保存原文件\n",
    "        df.to_csv(file_path, index=False, header=False, sep=\" \")\n",
    "        print(f\"已处理并覆盖文件: {file_path}\")\n",
    "        \n",
    "    except Exception as e:\n",
    "        print(f\"处理文件 {file_path} 时出错: {e}\")\n"
   ]
  },
  {
   "cell_type": "markdown",
   "metadata": {},
   "source": [
    "### 不同列之间用逗号隔开同时将内容转换为数值类型"
   ]
  },
  {
   "cell_type": "code",
   "execution_count": 5,
   "metadata": {},
   "outputs": [
    {
     "name": "stderr",
     "output_type": "stream",
     "text": [
      "/tmp/ipykernel_2380444/1650067141.py:13: FutureWarning: The 'delim_whitespace' keyword in pd.read_csv is deprecated and will be removed in a future version. Use ``sep='\\s+'`` instead\n",
      "  data = pd.read_csv(file_path, delim_whitespace=True, header=None)\n"
     ]
    },
    {
     "ename": "EmptyDataError",
     "evalue": "No columns to parse from file",
     "output_type": "error",
     "traceback": [
      "\u001b[0;31m---------------------------------------------------------------------------\u001b[0m",
      "\u001b[0;31mEmptyDataError\u001b[0m                            Traceback (most recent call last)",
      "Cell \u001b[0;32mIn[5], line 13\u001b[0m\n\u001b[1;32m     10\u001b[0m file_path \u001b[39m=\u001b[39m os\u001b[39m.\u001b[39mpath\u001b[39m.\u001b[39mjoin(folder_path, filename)\n\u001b[1;32m     12\u001b[0m \u001b[39m# 读取文件，将空格作为分隔符，尝试将所有数据解析为数值类型\u001b[39;00m\n\u001b[0;32m---> 13\u001b[0m data \u001b[39m=\u001b[39m pd\u001b[39m.\u001b[39;49mread_csv(file_path, delim_whitespace\u001b[39m=\u001b[39;49m\u001b[39mTrue\u001b[39;49;00m, header\u001b[39m=\u001b[39;49m\u001b[39mNone\u001b[39;49;00m)\n\u001b[1;32m     15\u001b[0m \u001b[39m# 将所有数据转换为数值类型，无法转换的内容置为NaN\u001b[39;00m\n\u001b[1;32m     16\u001b[0m data \u001b[39m=\u001b[39m data\u001b[39m.\u001b[39mapply(pd\u001b[39m.\u001b[39mto_numeric, errors\u001b[39m=\u001b[39m\u001b[39m'\u001b[39m\u001b[39mcoerce\u001b[39m\u001b[39m'\u001b[39m)\n",
      "File \u001b[0;32m/usr/local/lib/python3.10/dist-packages/pandas/io/parsers/readers.py:1026\u001b[0m, in \u001b[0;36mread_csv\u001b[0;34m(filepath_or_buffer, sep, delimiter, header, names, index_col, usecols, dtype, engine, converters, true_values, false_values, skipinitialspace, skiprows, skipfooter, nrows, na_values, keep_default_na, na_filter, verbose, skip_blank_lines, parse_dates, infer_datetime_format, keep_date_col, date_parser, date_format, dayfirst, cache_dates, iterator, chunksize, compression, thousands, decimal, lineterminator, quotechar, quoting, doublequote, escapechar, comment, encoding, encoding_errors, dialect, on_bad_lines, delim_whitespace, low_memory, memory_map, float_precision, storage_options, dtype_backend)\u001b[0m\n\u001b[1;32m   1013\u001b[0m kwds_defaults \u001b[39m=\u001b[39m _refine_defaults_read(\n\u001b[1;32m   1014\u001b[0m     dialect,\n\u001b[1;32m   1015\u001b[0m     delimiter,\n\u001b[0;32m   (...)\u001b[0m\n\u001b[1;32m   1022\u001b[0m     dtype_backend\u001b[39m=\u001b[39mdtype_backend,\n\u001b[1;32m   1023\u001b[0m )\n\u001b[1;32m   1024\u001b[0m kwds\u001b[39m.\u001b[39mupdate(kwds_defaults)\n\u001b[0;32m-> 1026\u001b[0m \u001b[39mreturn\u001b[39;00m _read(filepath_or_buffer, kwds)\n",
      "File \u001b[0;32m/usr/local/lib/python3.10/dist-packages/pandas/io/parsers/readers.py:620\u001b[0m, in \u001b[0;36m_read\u001b[0;34m(filepath_or_buffer, kwds)\u001b[0m\n\u001b[1;32m    617\u001b[0m _validate_names(kwds\u001b[39m.\u001b[39mget(\u001b[39m\"\u001b[39m\u001b[39mnames\u001b[39m\u001b[39m\"\u001b[39m, \u001b[39mNone\u001b[39;00m))\n\u001b[1;32m    619\u001b[0m \u001b[39m# Create the parser.\u001b[39;00m\n\u001b[0;32m--> 620\u001b[0m parser \u001b[39m=\u001b[39m TextFileReader(filepath_or_buffer, \u001b[39m*\u001b[39;49m\u001b[39m*\u001b[39;49mkwds)\n\u001b[1;32m    622\u001b[0m \u001b[39mif\u001b[39;00m chunksize \u001b[39mor\u001b[39;00m iterator:\n\u001b[1;32m    623\u001b[0m     \u001b[39mreturn\u001b[39;00m parser\n",
      "File \u001b[0;32m/usr/local/lib/python3.10/dist-packages/pandas/io/parsers/readers.py:1620\u001b[0m, in \u001b[0;36mTextFileReader.__init__\u001b[0;34m(self, f, engine, **kwds)\u001b[0m\n\u001b[1;32m   1617\u001b[0m     \u001b[39mself\u001b[39m\u001b[39m.\u001b[39moptions[\u001b[39m\"\u001b[39m\u001b[39mhas_index_names\u001b[39m\u001b[39m\"\u001b[39m] \u001b[39m=\u001b[39m kwds[\u001b[39m\"\u001b[39m\u001b[39mhas_index_names\u001b[39m\u001b[39m\"\u001b[39m]\n\u001b[1;32m   1619\u001b[0m \u001b[39mself\u001b[39m\u001b[39m.\u001b[39mhandles: IOHandles \u001b[39m|\u001b[39m \u001b[39mNone\u001b[39;00m \u001b[39m=\u001b[39m \u001b[39mNone\u001b[39;00m\n\u001b[0;32m-> 1620\u001b[0m \u001b[39mself\u001b[39m\u001b[39m.\u001b[39m_engine \u001b[39m=\u001b[39m \u001b[39mself\u001b[39;49m\u001b[39m.\u001b[39;49m_make_engine(f, \u001b[39mself\u001b[39;49m\u001b[39m.\u001b[39;49mengine)\n",
      "File \u001b[0;32m/usr/local/lib/python3.10/dist-packages/pandas/io/parsers/readers.py:1898\u001b[0m, in \u001b[0;36mTextFileReader._make_engine\u001b[0;34m(self, f, engine)\u001b[0m\n\u001b[1;32m   1895\u001b[0m     \u001b[39mraise\u001b[39;00m \u001b[39mValueError\u001b[39;00m(msg)\n\u001b[1;32m   1897\u001b[0m \u001b[39mtry\u001b[39;00m:\n\u001b[0;32m-> 1898\u001b[0m     \u001b[39mreturn\u001b[39;00m mapping[engine](f, \u001b[39m*\u001b[39;49m\u001b[39m*\u001b[39;49m\u001b[39mself\u001b[39;49m\u001b[39m.\u001b[39;49moptions)\n\u001b[1;32m   1899\u001b[0m \u001b[39mexcept\u001b[39;00m \u001b[39mException\u001b[39;00m:\n\u001b[1;32m   1900\u001b[0m     \u001b[39mif\u001b[39;00m \u001b[39mself\u001b[39m\u001b[39m.\u001b[39mhandles \u001b[39mis\u001b[39;00m \u001b[39mnot\u001b[39;00m \u001b[39mNone\u001b[39;00m:\n",
      "File \u001b[0;32m/usr/local/lib/python3.10/dist-packages/pandas/io/parsers/c_parser_wrapper.py:93\u001b[0m, in \u001b[0;36mCParserWrapper.__init__\u001b[0;34m(self, src, **kwds)\u001b[0m\n\u001b[1;32m     90\u001b[0m \u001b[39mif\u001b[39;00m kwds[\u001b[39m\"\u001b[39m\u001b[39mdtype_backend\u001b[39m\u001b[39m\"\u001b[39m] \u001b[39m==\u001b[39m \u001b[39m\"\u001b[39m\u001b[39mpyarrow\u001b[39m\u001b[39m\"\u001b[39m:\n\u001b[1;32m     91\u001b[0m     \u001b[39m# Fail here loudly instead of in cython after reading\u001b[39;00m\n\u001b[1;32m     92\u001b[0m     import_optional_dependency(\u001b[39m\"\u001b[39m\u001b[39mpyarrow\u001b[39m\u001b[39m\"\u001b[39m)\n\u001b[0;32m---> 93\u001b[0m \u001b[39mself\u001b[39m\u001b[39m.\u001b[39m_reader \u001b[39m=\u001b[39m parsers\u001b[39m.\u001b[39;49mTextReader(src, \u001b[39m*\u001b[39;49m\u001b[39m*\u001b[39;49mkwds)\n\u001b[1;32m     95\u001b[0m \u001b[39mself\u001b[39m\u001b[39m.\u001b[39munnamed_cols \u001b[39m=\u001b[39m \u001b[39mself\u001b[39m\u001b[39m.\u001b[39m_reader\u001b[39m.\u001b[39munnamed_cols\n\u001b[1;32m     97\u001b[0m \u001b[39m# error: Cannot determine type of 'names'\u001b[39;00m\n",
      "File \u001b[0;32mparsers.pyx:581\u001b[0m, in \u001b[0;36mpandas._libs.parsers.TextReader.__cinit__\u001b[0;34m()\u001b[0m\n",
      "\u001b[0;31mEmptyDataError\u001b[0m: No columns to parse from file"
     ]
    }
   ],
   "source": [
    "import os\n",
    "import pandas as pd\n",
    "\n",
    "# 指定CSV文件夹路径\n",
    "folder_path = '/home/develop/VAE/data/csv/'\n",
    "\n",
    "# 遍历文件夹中的所有CSV文件\n",
    "for filename in os.listdir(folder_path):\n",
    "    if filename.endswith(\".csv\"):\n",
    "        file_path = os.path.join(folder_path, filename)\n",
    "        \n",
    "        # 读取文件，将空格作为分隔符，尝试将所有数据解析为数值类型\n",
    "        data = pd.read_csv(file_path, delim_whitespace=True, header=None)\n",
    "        \n",
    "        # 将所有数据转换为数值类型，无法转换的内容置为NaN\n",
    "        data = data.apply(pd.to_numeric, errors='coerce')\n",
    "        \n",
    "        # 将DataFrame保存为新的CSV文件，使用空格作为分隔符\n",
    "        data.to_csv(file_path, index=False, header=False, sep=',')\n",
    "        \n",
    "        print(f\"文件 {filename} 已成功转换为数值类型，并使用逗号分隔保存。\")"
   ]
  },
  {
   "cell_type": "markdown",
   "metadata": {},
   "source": [
    "### 添加列名"
   ]
  },
  {
   "cell_type": "code",
   "execution_count": null,
   "metadata": {},
   "outputs": [],
   "source": [
    "import os\n",
    "import pandas as pd\n",
    "\n",
    "# 定义文件夹路径\n",
    "folder_path = '/home/develop/VAE/data/csv/'\n",
    "\n",
    "# 定义表头（列名）\n",
    "header = [\n",
    "    \"sensible_heat\", \"latent_heat\", \"ground_heat\", \"ground_temperature\", \n",
    "    \"ground_heat_at_soil_interface\", \"rain_energy\", \"snow_internal_energy_change\", \n",
    "    \"snow_melt_freeze_energy\", \"snow_cold_content\", \"outgoing_long_wave_radiation\", \n",
    "    \"incoming_long_wave_radiation\", \"net_long_wave_radiation\", \"reflected_short_wave_radiation\", \n",
    "    \"incoming_short_wave_radiation\", \"net_short_wave_radiation\", \"parametrized_albedo\", \n",
    "    \"measured_albedo\", \"incoming_short_wave_on_horizontal\", \"direct_incoming_short_wave\", \n",
    "    \"diffuse_incoming_short_wave\", \"air_temperature\", \"surface_temperature(mod)\", \n",
    "    \"surface_temperature(meas)\", \"bottom_temperature\", \"relative_humidity\", \"wind_velocity\", \n",
    "    \"wind_velocity_drift\", \"wind_direction\", \"solid_precipitation_rate\", \"snow_height(mod)\", \n",
    "    \"snow_height(meas)\", \"hoar_size\", \"24h_wind_drift\", \"3h_height_of_new_snow\", \n",
    "    \"6h_height_of_new_snow\", \"12h_height_of_new_snow\", \"24h_height_of_new_snow\", \n",
    "    \"3d_sum_of_daily_height_of_new_snow\", \"24h_percipitation\", \"skier_penetration_depth\", \n",
    "    \"snow_water_equivalent\", \"total_amount_of_water\", \"total_amount_of_water_soil\", \n",
    "    \"total_amount_of_ice_soil\", \"erosion_mass_loss\", \"rain_rate\", \n",
    "    \"virtual_lysimeter_surface_snow_only\", \"surface_mass_flux\", \n",
    "    \"virtual_lysimeter_under_the_soil\", \"sublimation_mass\", \"evaporated_mass\", \n",
    "    \"temperature@0.25m\", \"temperature@0.5m\", \"temperature@1m\", \"temperature@-0.25m\", \n",
    "    \"temperature@-0.1m\", \"profile_type\", \"stability_class\", \"z_Sdef\", \n",
    "    \"deformation_rate_stability_index\", \"z_Sn38\", \"natural_stability_index\", \"z_Sk38\", \n",
    "    \"Sk38_skier_stability_index\", \"z_SSI\", \"structural_stability_index\", \"z_S5\", \n",
    "    \"stability_index_5\"\n",
    "]\n",
    "\n",
    "\n",
    "\n",
    "\n",
    "# 遍历文件夹中的所有 CSV 文件\n",
    "for file_path in os.listdir(folder_path):    \n",
    "    # 读取 CSV 文件，以逗号为分隔符\n",
    "    data = pd.read_csv(file_path, header=None, sep=',')\n",
    "    # 检查列数是否与表头匹配\n",
    "    if len(data.columns) == len(header):\n",
    "        print(f\"列数匹配，表头将被添加到文件中。\")\n",
    "        # 添加表头\n",
    "        data.columns = header\n",
    "\n",
    "        # 将修改后的数据保存回 CSV 文件\n",
    "        data.to_csv(file_path, index=False, sep=',')\n",
    "        print(f\"表头已成功添加到 {file_path}。\")\n",
    "    else:\n",
    "        print(f\"列数不匹配！实际列数为 {len(data.columns)}，表头参数个数为 {len(header)}。\")"
   ]
  },
  {
   "cell_type": "markdown",
   "metadata": {},
   "source": [
    "### 遍历文件，找到值不变的列"
   ]
  },
  {
   "cell_type": "code",
   "execution_count": null,
   "metadata": {},
   "outputs": [
    {
     "name": "stdout",
     "output_type": "stream",
     "text": [
      "列 'ground_heat' 的所有值相同，值为: -999\n",
      "列 'measured_albedo' 的所有值相同，值为: -999\n",
      "列 'surface_temperature(meas)' 的所有值相同，值为: -999\n",
      "列 '24h_wind_drift' 的所有值相同，值为: 0.0\n",
      "列 'erosion_mass_loss' 的所有值相同，值为: -0.0\n",
      "列 'virtual_lysimeter_under_the_soil' 的所有值相同，值为: -999\n",
      "列 'temperature@0.25m' 的所有值相同，值为: -999\n",
      "列 'temperature@0.5m' 的所有值相同，值为: -999\n",
      "列 'temperature@1m' 的所有值相同，值为: -999\n",
      "列 'temperature@-0.25m' 的所有值相同，值为: -999\n",
      "列 'temperature@-0.1m' 的所有值相同，值为: -999\n",
      "列 'profile_type' 的所有值相同，值为: -1.0\n",
      "列 'z_S5' 的所有值相同，值为: 0.0\n"
     ]
    }
   ],
   "source": [
    "import pandas as pd\n",
    "import os\n",
    "\n",
    "# 定义文件路径\n",
    "file_path = '/home/develop/VAE/data/csv/ceshi_prec.csv'\n",
    "\n",
    "# 读取 CSV 文件\n",
    "data = pd.read_csv(file_path, header=0, sep=',', low_memory=False)\n",
    "\n",
    "# 遍历每一列\n",
    "for col in data.columns:\n",
    "    # 检查列中是否所有值都相同\n",
    "    unique_values = data[col].unique()\n",
    "    if len(unique_values) == 1:\n",
    "        # 输出列名和该列唯一的数值\n",
    "        print(f\"列 '{col}' 的所有值相同，值为: {unique_values[0]}\")\n"
   ]
  },
  {
   "cell_type": "code",
   "execution_count": null,
   "metadata": {},
   "outputs": [
    {
     "name": "stdout",
     "output_type": "stream",
     "text": [
      "已删除指定的列: ['ground_heat', 'measured_albedo', 'surface_temperature(meas)', '24h_wind_drift', 'erosion_mass_loss', 'virtual_lysimeter_under_the_soil', 'temperature@0.25m', 'temperature@0.5m', 'temperature@1m', 'temperature@-0.25m', 'temperature@-0.1m', 'profile_type', 'z_S5']\n"
     ]
    }
   ],
   "source": [
    "import pandas as pd\n",
    "\n",
    "# 定义文件路径\n",
    "file_path = '/home/develop/VAE/data/csv/ceshi_prec.csv'\n",
    "\n",
    "# 读取 CSV 文件\n",
    "data = pd.read_csv(file_path, header=0, sep=',', low_memory=False)\n",
    "\n",
    "# 定义要删除的列名列表\n",
    "columns_to_drop = [\n",
    "    \"ground_heat\", \"measured_albedo\", \"surface_temperature(meas)\", \n",
    "    \"24h_wind_drift\", \"erosion_mass_loss\", \"virtual_lysimeter_under_the_soil\", \n",
    "    \"temperature@0.25m\", \"temperature@0.5m\", \"temperature@1m\", \n",
    "    \"temperature@-0.25m\", \"temperature@-0.1m\", \"profile_type\", \"z_S5\"\n",
    "]\n",
    "\n",
    "# 删除指定列\n",
    "data.drop(columns=columns_to_drop, inplace=True)\n",
    "\n",
    "# 保存修改后的数据回到 CSV 文件\n",
    "data.to_csv(file_path, index=False)\n",
    "\n",
    "print(\"已删除指定的列:\", columns_to_drop)\n"
   ]
  },
  {
   "cell_type": "markdown",
   "metadata": {},
   "source": [
    "### 多少行包含缺失值"
   ]
  },
  {
   "cell_type": "code",
   "execution_count": null,
   "metadata": {},
   "outputs": [
    {
     "name": "stdout",
     "output_type": "stream",
     "text": [
      "包含缺失值的行数: 0\n"
     ]
    }
   ],
   "source": [
    "import pandas as pd\n",
    "file_path = '/home/develop/VAE/data/csv/ceshi.csv'\n",
    "data = pd.read_csv(file_path, header=0, sep=',', na_values=-999, low_memory=False)\n",
    "rows_with_missing_values = data.isnull().any(axis=1).sum()\n",
    "print(f\"包含缺失值的行数: {rows_with_missing_values}\")"
   ]
  },
  {
   "cell_type": "markdown",
   "metadata": {},
   "source": [
    "### 哪些列包含缺失值"
   ]
  },
  {
   "cell_type": "code",
   "execution_count": null,
   "metadata": {},
   "outputs": [
    {
     "name": "stdout",
     "output_type": "stream",
     "text": [
      "包含缺失值的列数: 0\n",
      "包含缺失值的列名:\n"
     ]
    }
   ],
   "source": [
    "import pandas as pd\n",
    "import numpy as np\n",
    "\n",
    "# 定义文件路径\n",
    "file_path = '/home/develop/VAE/data/csv/ceshi.csv'\n",
    "\n",
    "data = pd.read_csv(file_path, header=0, sep=',', na_values=-999, low_memory=False)\n",
    "\n",
    "columns_with_missing_values = data.columns[data.isnull().any()]\n",
    "\n",
    "print(f\"包含缺失值的列数: {len(columns_with_missing_values)}\")\n",
    "print(\"包含缺失值的列名:\")\n",
    "for col in columns_with_missing_values:\n",
    "    print(col)"
   ]
  },
  {
   "cell_type": "markdown",
   "metadata": {},
   "source": [
    "### 删除包含缺失值的列"
   ]
  },
  {
   "cell_type": "code",
   "execution_count": null,
   "metadata": {},
   "outputs": [
    {
     "name": "stdout",
     "output_type": "stream",
     "text": [
      "已删除指定的列: ['ground_heat_at_soil_interface', 'stability_index_5']\n"
     ]
    }
   ],
   "source": [
    "import pandas as pd\n",
    "\n",
    "# 定义文件路径\n",
    "file_path = '/home/develop/VAE/data/csv/ceshi.csv'\n",
    "\n",
    "# 读取 CSV 文件\n",
    "data = pd.read_csv(file_path, header=0, sep=',', low_memory=False)\n",
    "\n",
    "# 定义要删除的列名列表\n",
    "columns_to_drop = [\n",
    "    \"ground_heat_at_soil_interface\",  \"stability_index_5\"\n",
    "]\n",
    "\n",
    "# 删除指定列\n",
    "data.drop(columns=columns_to_drop, inplace=True)\n",
    "\n",
    "# 保存修改后的数据回到 CSV 文件\n",
    "data.to_csv(file_path, index=False)\n",
    "\n",
    "print(\"已删除指定的列:\", columns_to_drop)\n"
   ]
  },
  {
   "cell_type": "markdown",
   "metadata": {},
   "source": [
    "### 输出文件形状"
   ]
  },
  {
   "cell_type": "code",
   "execution_count": null,
   "metadata": {},
   "outputs": [
    {
     "name": "stdout",
     "output_type": "stream",
     "text": [
      "行数:1201,列数:42\n"
     ]
    }
   ],
   "source": [
    "import pandas as pd\n",
    "import numpy as np\n",
    "\n",
    "file_path = '/home/develop/VAE/data/csv/ceshi.csv'\n",
    "data = pd.read_csv(file_path, header=0, sep=',',low_memory=False)\n",
    "x,y = data.shape\n",
    "print(f'行数:{x},列数:{y}')"
   ]
  },
  {
   "cell_type": "markdown",
   "metadata": {},
   "source": [
    "### 对数据进行归一化"
   ]
  },
  {
   "cell_type": "code",
   "execution_count": null,
   "metadata": {},
   "outputs": [
    {
     "name": "stdout",
     "output_type": "stream",
     "text": [
      "归一化后的数据已保存到 /home/develop/VAE/data/csv/ceshi_normalized.csv\n"
     ]
    }
   ],
   "source": [
    "import pandas as pd\n",
    "from sklearn.preprocessing import MinMaxScaler\n",
    "\n",
    "# 读取原始数据\n",
    "file_path = '/home/develop/VAE/data/csv/ceshi.csv'\n",
    "data = pd.read_csv(file_path)\n",
    "\n",
    "# 初始化 MinMaxScaler\n",
    "scaler = MinMaxScaler()\n",
    "\n",
    "# 对数据进行归一化，忽略非数值列（如果有的话）\n",
    "# 如果所有列都是数值类型，则可以直接应用于整个 DataFrame\n",
    "data_normalized = data.copy()  # 创建一个副本，避免修改原始数据\n",
    "\n",
    "# 对所有列进行归一化，假设数据中没有非数值列\n",
    "data_normalized.iloc[:, :] = scaler.fit_transform(data_normalized)\n",
    "\n",
    "# 保存归一化后的数据\n",
    "output_path = '/home/develop/VAE/data/csv/ceshi_normalized.csv'\n",
    "data_normalized.to_csv(output_path, index=False)\n",
    "\n",
    "print(f\"归一化后的数据已保存到 {output_path}\")\n"
   ]
  },
  {
   "cell_type": "code",
   "execution_count": null,
   "metadata": {},
   "outputs": [
    {
     "name": "stdout",
     "output_type": "stream",
     "text": [
      "行数:1201,列数:42\n"
     ]
    }
   ],
   "source": [
    "file_path = '/home/develop/VAE/data/csv/ceshi_normalized.csv'\n",
    "data = pd.read_csv(file_path, header=0, sep=',',low_memory=False)\n",
    "x,y = data.shape\n",
    "print(f'行数:{x},列数:{y}')"
   ]
  },
  {
   "cell_type": "markdown",
   "metadata": {},
   "source": [
    "异常数据：(50, 128, 190, 343, 526, 612, 1321, 1652, 1823, 1932, 2024, 2135, 2352, 2683, 2794)\n",
    "\n",
    "17,43,64,115,176,204,441,551,608,644,675,712,784,895,932"
   ]
  },
  {
   "cell_type": "markdown",
   "metadata": {},
   "source": [
    "### 将可能得异常点添加到`test.csv`中，并保留原有的index"
   ]
  },
  {
   "cell_type": "code",
   "execution_count": null,
   "metadata": {},
   "outputs": [
    {
     "name": "stdout",
     "output_type": "stream",
     "text": [
      "选中的行已经保存到 /home/develop/VAE/data/csv/test.csv\n"
     ]
    }
   ],
   "source": [
    "import pandas as pd\n",
    "\n",
    "# 读取原始数据\n",
    "file_path = '/home/develop/VAE/data/csv/ceshi_normalized.csv'\n",
    "data = pd.read_csv(file_path)\n",
    "\n",
    "# 指定需要选择的行的索引（行索引从0开始）\n",
    "indices = [17, 43, 64, 115, 176, 204, 441, 551, 608, 644, 675, 712, 784, 895, 932]\n",
    "\n",
    "# 选择指定行\n",
    "selected_rows = data.iloc[indices].copy()\n",
    "\n",
    "# 添加 \"origin_index\" 列\n",
    "selected_rows['origin_index'] = selected_rows.index\n",
    "\n",
    "# 保存为新的 CSV 文件\n",
    "output_path = '/home/develop/VAE/data/csv/test.csv'\n",
    "selected_rows.to_csv(output_path, index=False)\n",
    "\n",
    "print(f\"选中的行已经保存到 {output_path}\")\n"
   ]
  },
  {
   "cell_type": "markdown",
   "metadata": {},
   "source": [
    "### 在`ceshi_normalized.csv`中删除对应的列"
   ]
  },
  {
   "cell_type": "code",
   "execution_count": null,
   "metadata": {},
   "outputs": [
    {
     "name": "stdout",
     "output_type": "stream",
     "text": [
      "指定的行已经被移除，更新后的文件保存在 /home/develop/VAE/data/csv/final.csv\n"
     ]
    }
   ],
   "source": [
    "import pandas as pd\n",
    "\n",
    "# 读取原始数据\n",
    "file_path = '/home/develop/VAE/data/csv/ceshi_normalized.csv'\n",
    "data = pd.read_csv(file_path)\n",
    "\n",
    "# 指定需要删除的行的索引（行索引从0开始）\n",
    "indices = [17, 43, 64, 115, 176, 204, 441, 551, 608, 644, 675, 712, 784, 895, 932]\n",
    "\n",
    "# 从数据中删除指定的行\n",
    "data_cleaned = data.drop(indices)\n",
    "\n",
    "# 保存更新后的 CSV 文件\n",
    "output_path = '/home/develop/VAE/data/csv/final.csv'\n",
    "data_cleaned.to_csv(output_path, index=False)\n",
    "\n",
    "print(f\"指定的行已经被移除，更新后的文件保存在 {output_path}\")\n"
   ]
  },
  {
   "cell_type": "code",
   "execution_count": null,
   "metadata": {},
   "outputs": [
    {
     "name": "stdout",
     "output_type": "stream",
     "text": [
      "文件行数1186,列数42\n"
     ]
    }
   ],
   "source": [
    "import pandas as pd\n",
    "data = pd.read_csv('/home/develop/VAE/data/csv/final.csv')\n",
    "x,y=data.shape\n",
    "print(f\"文件行数{x},列数{y}\")"
   ]
  },
  {
   "cell_type": "markdown",
   "metadata": {},
   "source": [
    "### VAE模型训练"
   ]
  },
  {
   "cell_type": "code",
   "execution_count": null,
   "metadata": {},
   "outputs": [
    {
     "name": "stderr",
     "output_type": "stream",
     "text": [
      "2024-12-05 23:03:59.905782: I tensorflow/tsl/cuda/cudart_stub.cc:28] Could not find cuda drivers on your machine, GPU will not be used.\n",
      "2024-12-05 23:03:59.950405: I tensorflow/tsl/cuda/cudart_stub.cc:28] Could not find cuda drivers on your machine, GPU will not be used.\n",
      "2024-12-05 23:03:59.951527: I tensorflow/core/platform/cpu_feature_guard.cc:182] This TensorFlow binary is optimized to use available CPU instructions in performance-critical operations.\n",
      "To enable the following instructions: AVX2 AVX512F FMA, in other operations, rebuild TensorFlow with the appropriate compiler flags.\n",
      "2024-12-05 23:04:00.603357: W tensorflow/compiler/tf2tensorrt/utils/py_utils.cc:38] TF-TRT Warning: Could not find TensorRT\n"
     ]
    },
    {
     "ename": "ValueError",
     "evalue": "in user code:\n\n    File \"/usr/local/lib/python3.10/dist-packages/keras/engine/training.py\", line 1284, in train_function  *\n        return step_function(self, iterator)\n    File \"/tmp/ipykernel_2380444/3929836870.py\", line 59, in vae_loss  *\n        reconstruction_loss = reconstruction_loss_fn(y_true, decoder_output)\n    File \"/usr/local/lib/python3.10/dist-packages/keras/losses.py\", line 142, in __call__  **\n        losses = call_fn(y_true, y_pred)\n    File \"/usr/local/lib/python3.10/dist-packages/keras/losses.py\", line 268, in call  **\n        return ag_fn(y_true, y_pred, **self._fn_kwargs)\n    File \"/usr/local/lib/python3.10/dist-packages/keras/losses.py\", line 1470, in mean_squared_error\n        return backend.mean(tf.math.squared_difference(y_pred, y_true), axis=-1)\n\n    ValueError: Dimensions must be equal, but are 5 and 42 for '{{node vae_loss_1/mean_squared_error/SquaredDifference}} = SquaredDifference[T=DT_FLOAT](vae_loss_1/strided_slice, IteratorGetNext:1)' with input shapes: [5], [?,42].\n",
     "output_type": "error",
     "traceback": [
      "\u001b[0;31m---------------------------------------------------------------------------\u001b[0m",
      "\u001b[0;31mValueError\u001b[0m                                Traceback (most recent call last)",
      "Cell \u001b[0;32mIn[1], line 81\u001b[0m\n\u001b[1;32m     79\u001b[0m \u001b[39m# 训练模型\u001b[39;00m\n\u001b[1;32m     80\u001b[0m start_time \u001b[39m=\u001b[39m datetime\u001b[39m.\u001b[39mnow()\n\u001b[0;32m---> 81\u001b[0m history \u001b[39m=\u001b[39m vae\u001b[39m.\u001b[39;49mfit(\n\u001b[1;32m     82\u001b[0m     X_train, X_train,\n\u001b[1;32m     83\u001b[0m     epochs\u001b[39m=\u001b[39;49mepochs,\n\u001b[1;32m     84\u001b[0m     batch_size\u001b[39m=\u001b[39;49mbatch_size,\n\u001b[1;32m     85\u001b[0m     validation_data\u001b[39m=\u001b[39;49m(X_test, X_test),\n\u001b[1;32m     86\u001b[0m     verbose\u001b[39m=\u001b[39;49m\u001b[39m0\u001b[39;49m\n\u001b[1;32m     87\u001b[0m )\n\u001b[1;32m     88\u001b[0m training_time \u001b[39m=\u001b[39m datetime\u001b[39m.\u001b[39mnow() \u001b[39m-\u001b[39m start_time\n\u001b[1;32m     90\u001b[0m \u001b[39m# 绘制训练损失\u001b[39;00m\n",
      "File \u001b[0;32m/usr/local/lib/python3.10/dist-packages/keras/utils/traceback_utils.py:70\u001b[0m, in \u001b[0;36mfilter_traceback.<locals>.error_handler\u001b[0;34m(*args, **kwargs)\u001b[0m\n\u001b[1;32m     67\u001b[0m     filtered_tb \u001b[39m=\u001b[39m _process_traceback_frames(e\u001b[39m.\u001b[39m__traceback__)\n\u001b[1;32m     68\u001b[0m     \u001b[39m# To get the full stack trace, call:\u001b[39;00m\n\u001b[1;32m     69\u001b[0m     \u001b[39m# `tf.debugging.disable_traceback_filtering()`\u001b[39;00m\n\u001b[0;32m---> 70\u001b[0m     \u001b[39mraise\u001b[39;00m e\u001b[39m.\u001b[39mwith_traceback(filtered_tb) \u001b[39mfrom\u001b[39;00m \u001b[39mNone\u001b[39;00m\n\u001b[1;32m     71\u001b[0m \u001b[39mfinally\u001b[39;00m:\n\u001b[1;32m     72\u001b[0m     \u001b[39mdel\u001b[39;00m filtered_tb\n",
      "File \u001b[0;32m/tmp/__autograph_generated_file_n0rwhfl.py:15\u001b[0m, in \u001b[0;36mouter_factory.<locals>.inner_factory.<locals>.tf__train_function\u001b[0;34m(iterator)\u001b[0m\n\u001b[1;32m     13\u001b[0m \u001b[39mtry\u001b[39;00m:\n\u001b[1;32m     14\u001b[0m     do_return \u001b[39m=\u001b[39m \u001b[39mTrue\u001b[39;00m\n\u001b[0;32m---> 15\u001b[0m     retval_ \u001b[39m=\u001b[39m ag__\u001b[39m.\u001b[39mconverted_call(ag__\u001b[39m.\u001b[39mld(step_function), (ag__\u001b[39m.\u001b[39mld(\u001b[39mself\u001b[39m), ag__\u001b[39m.\u001b[39mld(iterator)), \u001b[39mNone\u001b[39;00m, fscope)\n\u001b[1;32m     16\u001b[0m \u001b[39mexcept\u001b[39;00m:\n\u001b[1;32m     17\u001b[0m     do_return \u001b[39m=\u001b[39m \u001b[39mFalse\u001b[39;00m\n",
      "File \u001b[0;32m/tmp/__autograph_generated_file26o8f00r.py:14\u001b[0m, in \u001b[0;36mouter_factory.<locals>.inner_factory.<locals>.tf__vae_loss\u001b[0;34m(y_true, y_pred)\u001b[0m\n\u001b[1;32m     12\u001b[0m z_log_var \u001b[39m=\u001b[39m ag__\u001b[39m.\u001b[39mld(y_pred)[\u001b[39m2\u001b[39m]\n\u001b[1;32m     13\u001b[0m reconstruction_loss_fn \u001b[39m=\u001b[39m ag__\u001b[39m.\u001b[39mconverted_call(ag__\u001b[39m.\u001b[39mld(tf)\u001b[39m.\u001b[39mkeras\u001b[39m.\u001b[39mlosses\u001b[39m.\u001b[39mMeanSquaredError, (), \u001b[39mNone\u001b[39;00m, fscope)\n\u001b[0;32m---> 14\u001b[0m reconstruction_loss \u001b[39m=\u001b[39m ag__\u001b[39m.\u001b[39;49mconverted_call(ag__\u001b[39m.\u001b[39;49mld(reconstruction_loss_fn), (ag__\u001b[39m.\u001b[39;49mld(y_true), ag__\u001b[39m.\u001b[39;49mld(decoder_output)), \u001b[39mNone\u001b[39;49;00m, fscope)\n\u001b[1;32m     15\u001b[0m kl_loss \u001b[39m=\u001b[39m \u001b[39m-\u001b[39m\u001b[39m0.5\u001b[39m \u001b[39m*\u001b[39m ag__\u001b[39m.\u001b[39mconverted_call(ag__\u001b[39m.\u001b[39mld(tf)\u001b[39m.\u001b[39mreduce_sum, (\u001b[39m1\u001b[39m \u001b[39m+\u001b[39m ag__\u001b[39m.\u001b[39mld(z_log_var) \u001b[39m-\u001b[39m ag__\u001b[39m.\u001b[39mconverted_call(ag__\u001b[39m.\u001b[39mld(tf)\u001b[39m.\u001b[39msquare, (ag__\u001b[39m.\u001b[39mld(z_mean),), \u001b[39mNone\u001b[39;00m, fscope) \u001b[39m-\u001b[39m ag__\u001b[39m.\u001b[39mconverted_call(ag__\u001b[39m.\u001b[39mld(tf)\u001b[39m.\u001b[39mexp, (ag__\u001b[39m.\u001b[39mld(z_log_var),), \u001b[39mNone\u001b[39;00m, fscope),), \u001b[39mdict\u001b[39m(axis\u001b[39m=\u001b[39m\u001b[39m-\u001b[39m\u001b[39m1\u001b[39m), fscope)\n\u001b[1;32m     16\u001b[0m \u001b[39mtry\u001b[39;00m:\n",
      "\u001b[0;31mValueError\u001b[0m: in user code:\n\n    File \"/usr/local/lib/python3.10/dist-packages/keras/engine/training.py\", line 1284, in train_function  *\n        return step_function(self, iterator)\n    File \"/tmp/ipykernel_2380444/3929836870.py\", line 59, in vae_loss  *\n        reconstruction_loss = reconstruction_loss_fn(y_true, decoder_output)\n    File \"/usr/local/lib/python3.10/dist-packages/keras/losses.py\", line 142, in __call__  **\n        losses = call_fn(y_true, y_pred)\n    File \"/usr/local/lib/python3.10/dist-packages/keras/losses.py\", line 268, in call  **\n        return ag_fn(y_true, y_pred, **self._fn_kwargs)\n    File \"/usr/local/lib/python3.10/dist-packages/keras/losses.py\", line 1470, in mean_squared_error\n        return backend.mean(tf.math.squared_difference(y_pred, y_true), axis=-1)\n\n    ValueError: Dimensions must be equal, but are 5 and 42 for '{{node vae_loss_1/mean_squared_error/SquaredDifference}} = SquaredDifference[T=DT_FLOAT](vae_loss_1/strided_slice, IteratorGetNext:1)' with input shapes: [5], [?,42].\n"
     ]
    }
   ],
   "source": [
    "import os\n",
    "import numpy as np\n",
    "import pandas as pd\n",
    "import tensorflow as tf\n",
    "from tensorflow.keras import layers, Model\n",
    "import matplotlib.pyplot as plt\n",
    "from datetime import datetime\n",
    "\n",
    "# 数据读取\n",
    "data = pd.read_csv('/home/develop/VAE/data/csv/final.csv')\n",
    "X = data.values\n",
    "\n",
    "# 数据集划分\n",
    "train_size = int(len(X) * 0.8)\n",
    "X_train, X_test = X[:train_size], X[train_size:]\n",
    "\n",
    "input_dim = X.shape[1] \n",
    "\n",
    "# 超参数网格\n",
    "latent_dims = [5, 10, 15, 20]  # 潜在空间维度\n",
    "batch_sizes = [16, 32, 64]\n",
    "epochs_list = [20, 30, 50]\n",
    "kl_loss_weight = 0.1  \n",
    "\n",
    "save_dir = \"/home/develop/VAE/Result/pic/\"\n",
    "os.makedirs(save_dir, exist_ok=True)\n",
    "log_file = \"/home/develop/VAE/Result/train.log\" \n",
    "\n",
    "def build_vae(input_dim, latent_dim):\n",
    "    # 编码器\n",
    "    input_layer = layers.Input(shape=(input_dim,))\n",
    "    encoder = layers.Dense(64, activation=\"relu\")(input_layer)\n",
    "    encoder = layers.Dense(32, activation=\"relu\")(encoder)\n",
    "    z_mean = layers.Dense(latent_dim)(encoder)\n",
    "    z_log_var = layers.Dense(latent_dim)(encoder)\n",
    "\n",
    "    # 采样层\n",
    "    def sampling(args):\n",
    "        z_mean, z_log_var = args\n",
    "        batch = tf.shape(z_mean)[0]\n",
    "        dim = tf.shape(z_mean)[1]\n",
    "        epsilon = tf.random.normal(shape=(batch, dim))\n",
    "        return z_mean + tf.exp(0.5 * z_log_var) * epsilon\n",
    "\n",
    "    z = layers.Lambda(sampling, output_shape=(latent_dim,))([z_mean, z_log_var])\n",
    "\n",
    "    # 解码器\n",
    "    decoder = layers.Dense(32, activation=\"relu\")(z)\n",
    "    decoder = layers.Dense(64, activation=\"relu\")(decoder)\n",
    "    decoder_output = layers.Dense(input_dim, activation=\"sigmoid\")(decoder)\n",
    "\n",
    "    vae = Model(input_layer, [decoder_output, z_mean, z_log_var])\n",
    "\n",
    "    def vae_loss(y_true, y_pred):\n",
    "        decoder_output = y_pred[0]\n",
    "        z_mean = y_pred[1]\n",
    "        z_log_var = y_pred[2]\n",
    "        reconstruction_loss_fn = tf.keras.losses.MeanSquaredError()\n",
    "        reconstruction_loss = reconstruction_loss_fn(y_true, decoder_output)\n",
    "        kl_loss = -0.5 * tf.reduce_sum(1 + z_log_var - tf.square(z_mean) - tf.exp(z_log_var), axis=-1)\n",
    "        return reconstruction_loss + kl_loss_weight * tf.reduce_mean(kl_loss)\n",
    "\n",
    "    return vae, vae_loss\n",
    "\n",
    "# 开始训练和记录日志\n",
    "with open(log_file, \"w\") as log:\n",
    "    log.write(\"Training Log\\n\")\n",
    "    log.write(\"Parameters: latent_dim, batch_size, epochs\\n\")\n",
    "    log.write(\"Results: reconstruction_error_threshold, anomalies_detected, training_time\\n\")\n",
    "    log.write(\"-\" * 80 + \"\\n\")\n",
    "\n",
    "    for latent_dim in latent_dims:\n",
    "        for batch_size in batch_sizes:\n",
    "            for epochs in epochs_list:\n",
    "                # 构建模型\n",
    "                vae, vae_loss = build_vae(input_dim, latent_dim)\n",
    "                vae.compile(optimizer=tf.keras.optimizers.Adam(learning_rate=0.0005), loss=vae_loss)\n",
    "\n",
    "                # 训练模型\n",
    "                start_time = datetime.now()\n",
    "                history = vae.fit(\n",
    "                    X_train, X_train,\n",
    "                    epochs=epochs,\n",
    "                    batch_size=batch_size,\n",
    "                    validation_data=(X_test, X_test),\n",
    "                    verbose=0\n",
    "                )\n",
    "                training_time = datetime.now() - start_time\n",
    "\n",
    "                # 绘制训练损失\n",
    "                plt.figure()\n",
    "                plt.plot(history.history[\"loss\"], label=\"Train Loss\")\n",
    "                plt.plot(history.history[\"val_loss\"], label=\"Validation Loss\")\n",
    "                plt.xlabel(\"Epoch\")\n",
    "                plt.ylabel(\"Loss\")\n",
    "                plt.legend()\n",
    "                plt.title(f\"Loss (latent_dim={latent_dim}, batch_size={batch_size}, epochs={epochs})\")\n",
    "                plt.savefig(f\"{save_dir}loss_latent{latent_dim}_batch{batch_size}_epochs{epochs}.png\")\n",
    "                plt.close()\n",
    "\n",
    "                # 异常检测\n",
    "                X_pred = vae.predict(X_test, verbose=0)[0]\n",
    "                reconstruction_error = np.mean(np.square(X_test - X_pred), axis=1)\n",
    "                threshold = np.percentile(reconstruction_error, 95)\n",
    "                anomalies = reconstruction_error > threshold\n",
    "\n",
    "                # 绘制重构误差分布\n",
    "                plt.figure()\n",
    "                plt.hist(reconstruction_error, bins=50)\n",
    "                plt.xlabel(\"Reconstruction Error\")\n",
    "                plt.ylabel(\"Number of Samples\")\n",
    "                plt.title(f\"Error Dist. (latent_dim={latent_dim}, batch_size={batch_size}, epochs={epochs})\")\n",
    "                plt.savefig(f\"{save_dir}error_dist_latent{latent_dim}_batch{batch_size}_epochs{epochs}.png\")\n",
    "                plt.close()\n",
    "                log.write(f\"latent_dim={latent_dim}, batch_size={batch_size}, epochs={epochs}\\n\")\n",
    "                log.write(f\"reconstruction_error_threshold={threshold:.4f}, anomalies_detected={np.sum(anomalies)}, training_time={training_time}\\n\")\n",
    "                log.write(\"-\" * 80 + \"\\n\")\n",
    "                print(f\"Params: latent_dim={latent_dim}, batch_size={batch_size}, epochs={epochs}\")\n",
    "                print(f\"Reconstruction Error Threshold: {threshold:.4f}\")\n",
    "                print(f\"Anomalies detected: {np.sum(anomalies)}\")\n",
    "                print(f\"Training Time: {training_time}\\n\")"
   ]
  },
  {
   "cell_type": "markdown",
   "metadata": {},
   "source": [
    "**重构误差**\n",
    "\n",
    "指的是输入数据和通过模型重构后的输出数据之间的差异。\n",
    "\n",
    "**重构误差阈值** 是用来区分正常数据和异常数据的边界值。高于此阈值的样本被认为是异常。\n",
    "\n",
    "### 为什么重构误差是评价标准？\n",
    "\n",
    "**1. 捕捉异常的能力：**\n",
    "\n",
    "VAE 模型被训练为尽可能还原正常样本的分布。因此，正常样本的重构误差通常较小，而异常样本的重构误差较大。\n",
    "\n",
    "重构误差的大小直接反映了模型对数据的适应程度，误差越大，模型越无法重构该数据，从而更可能是异常。\n",
    "\n",
    "**2. 模型效果的衡量：**\n",
    "\n",
    "重构误差越小，说明模型对正常样本的学习和重构能力越强。\n",
    "\n",
    "阈值越小，表明模型对正常样本的重构误差更精准，可能更能区分正常和异常数据。\n",
    "\n",
    "**3. 结合异常检测的目标：**\n",
    "\n",
    "在异常检测中，目的是找到那些与正常分布偏离的点。使用重构误差作为评价标准，可以直观地量化模型的异常检测性能。\n",
    "\n",
    "根据重构误差阈值的最小值，选择：\n",
    "\n",
    "- latent_dim=5\n",
    "\n",
    "- batch_size=32\n",
    "\n",
    "- epochs=50\n",
    "\n",
    "- reconstruction_error_threshold=0.2117"
   ]
  },
  {
   "cell_type": "markdown",
   "metadata": {},
   "source": [
    "### 从final.csv文件中随机选取100条数据添加到test.csv中"
   ]
  },
  {
   "cell_type": "code",
   "execution_count": null,
   "metadata": {},
   "outputs": [
    {
     "name": "stdout",
     "output_type": "stream",
     "text": [
      "100 rows have been randomly selected and added to test.csv with origin_index set to 0.\n"
     ]
    }
   ],
   "source": [
    "import pandas as pd\n",
    "import numpy as np\n",
    "\n",
    "# 读取 final.csv 和 test.csv 文件\n",
    "final_df = pd.read_csv('/home/develop/VAE/data/csv/final.csv')\n",
    "test_df = pd.read_csv('/home/develop/VAE/data/csv/test.csv')\n",
    "\n",
    "# 随机选取 100 行数据\n",
    "random_rows = final_df.sample(n=100, random_state=42)\n",
    "\n",
    "# 为随机选取的数据添加 origin_index 列，并设置值为 0\n",
    "random_rows['origin_index'] = 0\n",
    "\n",
    "# 将这些随机选取的数据插入到 test_df 中的随机位置\n",
    "insert_position = np.random.randint(0, len(test_df))  # 随机选取插入位置\n",
    "test_df = pd.concat([test_df.iloc[:insert_position], random_rows, test_df.iloc[insert_position:]], ignore_index=True)\n",
    "\n",
    "# 保存更新后的 test.csv 文件\n",
    "test_df.to_csv('/home/develop/VAE/data/csv/test.csv', index=False)\n",
    "\n",
    "print(\"100 rows have been randomly selected and added to test.csv with origin_index set to 0.\")\n"
   ]
  },
  {
   "cell_type": "markdown",
   "metadata": {},
   "source": [
    "### 顺序打散"
   ]
  },
  {
   "cell_type": "code",
   "execution_count": null,
   "metadata": {},
   "outputs": [
    {
     "name": "stdout",
     "output_type": "stream",
     "text": [
      "The data in test.csv has been shuffled randomly.\n"
     ]
    }
   ],
   "source": [
    "import pandas as pd\n",
    "\n",
    "# 读取 test.csv 文件\n",
    "test_df = pd.read_csv('/home/develop/VAE/data/csv/test.csv')\n",
    "\n",
    "# 随机打乱数据顺序\n",
    "test_df_shuffled = test_df.sample(frac=1, random_state=42).reset_index(drop=True)\n",
    "\n",
    "# 保存打乱顺序后的数据到 test.csv 文件\n",
    "test_df_shuffled.to_csv('/home/develop/VAE/data/csv/test.csv', index=False)\n",
    "\n",
    "print(\"The data in test.csv has been shuffled randomly.\")"
   ]
  },
  {
   "cell_type": "markdown",
   "metadata": {},
   "source": [
    "### 将训练好的模型进行保存 vae_model.keras"
   ]
  },
  {
   "cell_type": "code",
   "execution_count": null,
   "metadata": {},
   "outputs": [
    {
     "name": "stdout",
     "output_type": "stream",
     "text": [
      "VAE model saved to '/home/develop/VAE/Model/vaeModel.keras'\n"
     ]
    }
   ],
   "source": [
    "# Specify the hyperparameters\n",
    "latent_dim = 5\n",
    "batch_size = 16\n",
    "epochs = 30\n",
    "\n",
    "# Build the VAE model using the defined function\n",
    "vae, vae_loss = build_vae(input_dim, latent_dim)\n",
    "\n",
    "# Compile the model\n",
    "vae.compile(optimizer=tf.keras.optimizers.Adam(learning_rate=0.0005), loss=vae_loss)\n",
    "\n",
    "# Train the model\n",
    "history = vae.fit(\n",
    "    X_train, X_train,\n",
    "    epochs=epochs,\n",
    "    batch_size=batch_size,\n",
    "    validation_data=(X_test, X_test),\n",
    "    verbose=0\n",
    ")\n",
    "\n",
    "# Save the trained model\n",
    "vae.save('/home/develop/VAE/Model/vaeModel.keras')\n",
    "\n",
    "# Optionally, you can also save the training history\n",
    "history_dict = history.history\n",
    "np.save('/home/develop/VAE/Result/history.npy', history_dict)\n",
    "\n",
    "print(\"VAE model saved to '/home/develop/VAE/Model/vaeModel.keras'\")\n"
   ]
  },
  {
   "cell_type": "code",
   "execution_count": null,
   "metadata": {},
   "outputs": [
    {
     "name": "stdout",
     "output_type": "stream",
     "text": [
      "\u001b[1m4/4\u001b[0m \u001b[32m━━━━━━━━━━━━━━━━━━━━\u001b[0m\u001b[37m\u001b[0m \u001b[1m0s\u001b[0m 19ms/step\n"
     ]
    },
    {
     "data": {
      "image/png": "[encoded data removed]",
      "text/plain": [
       "<Figure size 640x480 with 1 Axes>"
      ]
     },
     "metadata": {},
     "output_type": "display_data"
    },
    {
     "name": "stdout",
     "output_type": "stream",
     "text": [
      "Anomalies detected:\n",
      "[  0 644   0 675   0 608   0   0   0   0   0   0   0   0   0   0]\n"
     ]
    }
   ],
   "source": [
    "import os\n",
    "import numpy as np\n",
    "import pandas as pd\n",
    "import tensorflow as tf\n",
    "from tensorflow.keras import layers, Model\n",
    "import matplotlib.pyplot as plt\n",
    "from datetime import datetime\n",
    "\n",
    "# 注册自定义采样函数为可序列化的Keras函数\n",
    "@tf.keras.utils.register_keras_serializable()\n",
    "def sampling(args):\n",
    "    z_mean, z_log_var = args\n",
    "    batch = tf.shape(z_mean)[0]\n",
    "    dim = tf.shape(z_mean)[1]\n",
    "    epsilon = tf.random.normal(shape=(batch, dim))\n",
    "    return z_mean + tf.exp(0.5 * z_log_var) * epsilon\n",
    "\n",
    "kl_loss_weight = 0.1\n",
    "\n",
    "# 注册 VAE 损失函数\n",
    "@tf.keras.utils.register_keras_serializable()\n",
    "def vae_loss(y_true, y_pred):\n",
    "    decoder_output = y_pred[0]\n",
    "    z_mean = y_pred[1]\n",
    "    z_log_var = y_pred[2]\n",
    "    reconstruction_loss_fn = tf.keras.losses.MeanSquaredError()\n",
    "    reconstruction_loss = reconstruction_loss_fn(y_true, decoder_output)\n",
    "    kl_loss = -0.5 * tf.reduce_sum(1 + z_log_var - tf.square(z_mean) - tf.exp(z_log_var), axis=-1)\n",
    "    return reconstruction_loss + kl_loss_weight * tf.reduce_mean(kl_loss)\n",
    "\n",
    "# 数据读取\n",
    "data = pd.read_csv('/home/develop/VAE/data/csv/test.csv')\n",
    "X = data.values\n",
    "\n",
    "input_dim = X.shape[1] \n",
    "\n",
    "def build_vae(input_dim, latent_dim):\n",
    "    # 编码器\n",
    "    input_layer = layers.Input(shape=(input_dim,))\n",
    "    encoder = layers.Dense(64, activation=\"relu\")(input_layer)\n",
    "    encoder = layers.Dense(32, activation=\"relu\")(encoder)\n",
    "    z_mean = layers.Dense(latent_dim)(encoder)\n",
    "    z_log_var = layers.Dense(latent_dim)(encoder)\n",
    "\n",
    "    # 采样层\n",
    "    z = layers.Lambda(sampling, output_shape=(latent_dim,))([z_mean, z_log_var])\n",
    "\n",
    "    # 解码器\n",
    "    decoder = layers.Dense(32, activation=\"relu\")(z)\n",
    "    decoder = layers.Dense(64, activation=\"relu\")(decoder)\n",
    "    decoder_output = layers.Dense(input_dim, activation=\"sigmoid\")(decoder)\n",
    "\n",
    "    vae = Model(input_layer, [decoder_output, z_mean, z_log_var])\n",
    "\n",
    "    return vae\n",
    "\n",
    "# 加载测试集数据\n",
    "test_data = pd.read_csv('/home/develop/VAE/data/csv/test.csv')\n",
    "\n",
    "# 去除 'origin_index' 列\n",
    "X_test = test_data.drop(columns=['origin_index']).values\n",
    "origin_index = test_data['origin_index'].values\n",
    "\n",
    "# 加载已保存的VAE模型\n",
    "vae = tf.keras.models.load_model('/home/develop/VAE/Model/vaeModel.keras')\n",
    "\n",
    "# 使用VAE模型进行预测\n",
    "X_pred = vae.predict(X_test)[0]  # 获取重构数据\n",
    "\n",
    "# 计算重构误差\n",
    "reconstruction_error = np.mean(np.square(X_test - X_pred), axis=1)\n",
    "\n",
    "# 设置阈值为90%百分位\n",
    "threshold = np.percentile(reconstruction_error, 86)\n",
    "\n",
    "# 判定异常数据\n",
    "anomalies = reconstruction_error > threshold\n",
    "\n",
    "# 可视化重构误差分布\n",
    "plt.figure()\n",
    "plt.hist(reconstruction_error, bins=50, edgecolor='k')\n",
    "plt.axvline(x=threshold, color='r', linestyle='--', label=f'Threshold: {threshold:.4f}')\n",
    "plt.xlabel(\"Reconstruction Error\")\n",
    "plt.ylabel(\"Number of Samples\")\n",
    "plt.title(\"Reconstruction Error Distribution\")\n",
    "plt.legend()\n",
    "plt.show()\n",
    "\n",
    "# 输出判定为异常的 origin_index\n",
    "print(\"Anomalies detected:\")\n",
    "print(origin_index[anomalies])\n"
   ]
  }
 ],
 "metadata": {
  "kernelspec": {
   "display_name": "Python 3",
   "language": "python",
   "name": "python3"
  },
  "language_info": {
   "codemirror_mode": {
    "name": "ipython",
    "version": 3
   },
   "file_extension": ".py",
   "mimetype": "text/x-python",
   "name": "python",
   "nbconvert_exporter": "python",
   "pygments_lexer": "ipython3",
   "version": "3.10.4"
  },
  "orig_nbformat": 4
 },
 "nbformat": 4,
 "nbformat_minor": 2
}
