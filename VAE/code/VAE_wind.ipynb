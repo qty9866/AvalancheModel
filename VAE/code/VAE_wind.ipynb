{
 "cells": [
  {
   "cell_type": "markdown",
   "metadata": {},
   "source": [
    "### 遍历文件，找到值不变的列"
   ]
  },
  {
   "cell_type": "code",
   "execution_count": 1,
   "metadata": {},
   "outputs": [
    {
     "name": "stdout",
     "output_type": "stream",
     "text": [
      "列 'ground_heat' 的所有值相同，值为: -999\n",
      "列 'measured_albedo' 的所有值相同，值为: -999\n",
      "列 'surface_temperature(meas)' 的所有值相同，值为: -999\n",
      "列 '24h_wind_drift' 的所有值相同，值为: 0.0\n",
      "列 'virtual_lysimeter_under_the_soil' 的所有值相同，值为: -999\n",
      "列 'temperature@0.25m' 的所有值相同，值为: -999\n",
      "列 'temperature@0.5m' 的所有值相同，值为: -999\n",
      "列 'temperature@1m' 的所有值相同，值为: -999\n",
      "列 'temperature@-0.25m' 的所有值相同，值为: -999\n",
      "列 'temperature@-0.1m' 的所有值相同，值为: -999\n",
      "列 'profile_type' 的所有值相同，值为: -1.0\n",
      "列 'z_S5' 的所有值相同，值为: 0.0\n"
     ]
    }
   ],
   "source": [
    "import pandas as pd\n",
    "import os\n",
    "\n",
    "# 定义文件路径\n",
    "file_path = '/home/develop/VAE/data/csv/ceshi_wind.csv'\n",
    "\n",
    "# 读取 CSV 文件\n",
    "data = pd.read_csv(file_path, header=0, sep=',', low_memory=False)\n",
    "\n",
    "# 遍历每一列\n",
    "for col in data.columns:\n",
    "    # 检查列中是否所有值都相同\n",
    "    unique_values = data[col].unique()\n",
    "    if len(unique_values) == 1:\n",
    "        # 输出列名和该列唯一的数值\n",
    "        print(f\"列 '{col}' 的所有值相同，值为: {unique_values[0]}\")\n"
   ]
  },
  {
   "cell_type": "code",
   "execution_count": 2,
   "metadata": {},
   "outputs": [
    {
     "name": "stdout",
     "output_type": "stream",
     "text": [
      "已删除指定的列: ['ground_heat', 'measured_albedo', 'surface_temperature(meas)', '24h_wind_drift', 'erosion_mass_loss', 'virtual_lysimeter_under_the_soil', 'temperature@0.25m', 'temperature@0.5m', 'temperature@1m', 'temperature@-0.25m', 'temperature@-0.1m', 'profile_type', 'z_S5']\n"
     ]
    }
   ],
   "source": [
    "import pandas as pd\n",
    "\n",
    "# 定义文件路径\n",
    "file_path = '/home/develop/VAE/data/csv/ceshi_wind.csv'\n",
    "\n",
    "# 读取 CSV 文件\n",
    "data = pd.read_csv(file_path, header=0, sep=',', low_memory=False)\n",
    "\n",
    "# 定义要删除的列名列表\n",
    "columns_to_drop = [\n",
    "    \"ground_heat\", \"measured_albedo\", \"surface_temperature(meas)\", \n",
    "    \"24h_wind_drift\", \"erosion_mass_loss\", \"virtual_lysimeter_under_the_soil\", \n",
    "    \"temperature@0.25m\", \"temperature@0.5m\", \"temperature@1m\", \n",
    "    \"temperature@-0.25m\", \"temperature@-0.1m\", \"profile_type\", \"z_S5\"\n",
    "]\n",
    "\n",
    "# 删除指定列\n",
    "data.drop(columns=columns_to_drop, inplace=True)\n",
    "\n",
    "# 保存修改后的数据回到 CSV 文件\n",
    "data.to_csv(file_path, index=False)\n",
    "\n",
    "print(\"已删除指定的列:\", columns_to_drop)\n"
   ]
  },
  {
   "cell_type": "markdown",
   "metadata": {},
   "source": [
    "### 多少行包含缺失值"
   ]
  },
  {
   "cell_type": "code",
   "execution_count": 3,
   "metadata": {},
   "outputs": [
    {
     "name": "stdout",
     "output_type": "stream",
     "text": [
      "包含缺失值的行数: 433\n"
     ]
    }
   ],
   "source": [
    "import pandas as pd\n",
    "file_path = '/home/develop/VAE/data/csv/ceshi_wind.csv'\n",
    "data = pd.read_csv(file_path, header=0, sep=',', na_values=-999, low_memory=False)\n",
    "rows_with_missing_values = data.isnull().any(axis=1).sum()\n",
    "print(f\"包含缺失值的行数: {rows_with_missing_values}\")"
   ]
  },
  {
   "cell_type": "markdown",
   "metadata": {},
   "source": [
    "### 哪些列包含缺失值"
   ]
  },
  {
   "cell_type": "code",
   "execution_count": 4,
   "metadata": {},
   "outputs": [
    {
     "name": "stdout",
     "output_type": "stream",
     "text": [
      "包含缺失值的列数: 2\n",
      "包含缺失值的列名:\n",
      "ground_heat_at_soil_interface\n",
      "stability_index_5\n"
     ]
    }
   ],
   "source": [
    "import pandas as pd\n",
    "import numpy as np\n",
    "\n",
    "# 定义文件路径\n",
    "file_path = '/home/develop/VAE/data/csv/ceshi_wind.csv'\n",
    "\n",
    "data = pd.read_csv(file_path, header=0, sep=',', na_values=-999, low_memory=False)\n",
    "\n",
    "columns_with_missing_values = data.columns[data.isnull().any()]\n",
    "\n",
    "print(f\"包含缺失值的列数: {len(columns_with_missing_values)}\")\n",
    "print(\"包含缺失值的列名:\")\n",
    "for col in columns_with_missing_values:\n",
    "    print(col)"
   ]
  },
  {
   "cell_type": "markdown",
   "metadata": {},
   "source": [
    "### 删除包含缺失值的列"
   ]
  },
  {
   "cell_type": "code",
   "execution_count": 5,
   "metadata": {},
   "outputs": [
    {
     "name": "stdout",
     "output_type": "stream",
     "text": [
      "已删除指定的列: ['ground_heat_at_soil_interface', 'stability_index_5']\n"
     ]
    }
   ],
   "source": [
    "import pandas as pd\n",
    "\n",
    "# 定义文件路径\n",
    "file_path = '/home/develop/VAE/data/csv/ceshi_wind.csv'\n",
    "\n",
    "# 读取 CSV 文件\n",
    "data = pd.read_csv(file_path, header=0, sep=',', low_memory=False)\n",
    "\n",
    "# 定义要删除的列名列表\n",
    "columns_to_drop = [\n",
    "    \"ground_heat_at_soil_interface\",  \"stability_index_5\"\n",
    "]\n",
    "\n",
    "# 删除指定列\n",
    "data.drop(columns=columns_to_drop, inplace=True)\n",
    "\n",
    "# 保存修改后的数据回到 CSV 文件\n",
    "data.to_csv(file_path, index=False)\n",
    "\n",
    "print(\"已删除指定的列:\", columns_to_drop)\n"
   ]
  },
  {
   "cell_type": "markdown",
   "metadata": {},
   "source": [
    "### 输出文件形状"
   ]
  },
  {
   "cell_type": "code",
   "execution_count": 6,
   "metadata": {},
   "outputs": [
    {
     "name": "stdout",
     "output_type": "stream",
     "text": [
      "行数:1201,列数:42\n"
     ]
    }
   ],
   "source": [
    "import pandas as pd\n",
    "import numpy as np\n",
    "\n",
    "file_path = '/home/develop/VAE/data/csv/ceshi_wind.csv'\n",
    "data = pd.read_csv(file_path, header=0, sep=',',low_memory=False)\n",
    "x,y = data.shape\n",
    "print(f'行数:{x},列数:{y}')"
   ]
  },
  {
   "cell_type": "markdown",
   "metadata": {},
   "source": [
    "### 对数据进行归一化"
   ]
  },
  {
   "cell_type": "code",
   "execution_count": 8,
   "metadata": {},
   "outputs": [
    {
     "name": "stdout",
     "output_type": "stream",
     "text": [
      "归一化后的数据已保存到 /home/develop/VAE/data/csv/ceshi_wind_normalized.csv\n"
     ]
    }
   ],
   "source": [
    "import pandas as pd\n",
    "from sklearn.preprocessing import MinMaxScaler\n",
    "\n",
    "# 读取原始数据\n",
    "file_path = '/home/develop/VAE/data/csv/ceshi_wind.csv'\n",
    "data = pd.read_csv(file_path)\n",
    "\n",
    "# 初始化 MinMaxScaler\n",
    "scaler = MinMaxScaler()\n",
    "\n",
    "# 对数据进行归一化，忽略非数值列（如果有的话）\n",
    "# 如果所有列都是数值类型，则可以直接应用于整个 DataFrame\n",
    "data_normalized = data.copy()  # 创建一个副本，避免修改原始数据\n",
    "\n",
    "# 对所有列进行归一化，假设数据中没有非数值列\n",
    "data_normalized.iloc[:, :] = scaler.fit_transform(data_normalized)\n",
    "\n",
    "# 保存归一化后的数据\n",
    "output_path = '/home/develop/VAE/data/csv/ceshi_wind_normalized.csv'\n",
    "data_normalized.to_csv(output_path, index=False)\n",
    "\n",
    "print(f\"归一化后的数据已保存到 {output_path}\")\n"
   ]
  },
  {
   "cell_type": "markdown",
   "metadata": {},
   "source": [
    "异常数据：(50, 128, 190, 343, 526, 612, 1321, 1652, 1823, 1932, 2024, 2135, 2352, 2683, 2794)\n",
    "\n",
    "16, 42, 63, 114, 175, 204, 440, 550, 607, 644, 674, 711, 784, 894, 931"
   ]
  },
  {
   "cell_type": "markdown",
   "metadata": {},
   "source": [
    "### 将可能得异常点添加到`test_wind.csv`中，并保留原有的index"
   ]
  },
  {
   "cell_type": "code",
   "execution_count": 9,
   "metadata": {},
   "outputs": [
    {
     "name": "stdout",
     "output_type": "stream",
     "text": [
      "选中的行已经保存到 /home/develop/VAE/data/csv/test_wind.csv\n"
     ]
    }
   ],
   "source": [
    "import pandas as pd\n",
    "\n",
    "# 读取原始数据\n",
    "file_path = '/home/develop/VAE/data/csv/ceshi_wind_normalized.csv'\n",
    "data = pd.read_csv(file_path)\n",
    "\n",
    "# 指定需要选择的行的索引（行索引从0开始）\n",
    "indices = [16, 42, 63, 114, 175, 204, 440, 550, 607, 644, 674, 711, 784, 894, 931]\n",
    "\n",
    "# 创建一个空的 DataFrame 用于存储选中的数据\n",
    "selected_rows = pd.DataFrame()\n",
    "\n",
    "# 选择指定行及其前后行\n",
    "for idx in indices:\n",
    "    # 获取前一行、当前行、后一行\n",
    "    if idx > 0 and idx < len(data) - 1:\n",
    "        selected_rows = pd.concat([selected_rows, data.iloc[idx-1:idx+2]])\n",
    "    elif idx == 0:\n",
    "        selected_rows = pd.concat([selected_rows, data.iloc[idx:idx+2]])\n",
    "    elif idx == len(data) - 1:\n",
    "        selected_rows = pd.concat([selected_rows, data.iloc[idx-1:idx+1]])\n",
    "\n",
    "# 添加 \"origin_index\" 列\n",
    "selected_rows['origin_index'] = selected_rows.index\n",
    "\n",
    "# 保存为新的 CSV 文件\n",
    "output_path = '/home/develop/VAE/data/csv/test_wind.csv'\n",
    "selected_rows.to_csv(output_path, index=False)\n",
    "\n",
    "print(f\"选中的行已经保存到 {output_path}\")\n"
   ]
  },
  {
   "cell_type": "markdown",
   "metadata": {},
   "source": [
    "### 在`ceshi_wind_normalized.csv`中删除对应的列"
   ]
  },
  {
   "cell_type": "code",
   "execution_count": 10,
   "metadata": {},
   "outputs": [
    {
     "name": "stdout",
     "output_type": "stream",
     "text": [
      "删除的行已经被移除，更新后的文件保存在 /home/develop/VAE/data/csv/final_wind.csv\n"
     ]
    }
   ],
   "source": [
    "import pandas as pd\n",
    "\n",
    "# 读取原始数据\n",
    "file_path = '/home/develop/VAE/data/csv/ceshi_wind_normalized.csv'\n",
    "data = pd.read_csv(file_path)\n",
    "\n",
    "# 指定需要删除的行的索引（行索引从0开始）\n",
    "indices = [16, 42, 63, 114, 175, 204, 440, 550, 607, 644, 674, 711, 784, 894, 931]\n",
    "\n",
    "# 创建一个集合来存储需要删除的所有行的索引\n",
    "rows_to_delete = set()\n",
    "\n",
    "# 选择指定行及其前后行\n",
    "for idx in indices:\n",
    "    if idx > 0 and idx < len(data) - 1:\n",
    "        rows_to_delete.update([idx-1, idx, idx+1])\n",
    "    elif idx == 0:\n",
    "        rows_to_delete.update([idx, idx+1])\n",
    "    elif idx == len(data) - 1:\n",
    "        rows_to_delete.update([idx-1, idx])\n",
    "\n",
    "# 从数据中删除指定的行\n",
    "data_cleaned = data.drop(rows_to_delete)\n",
    "\n",
    "# 保存更新后的 CSV 文件\n",
    "output_path = '/home/develop/VAE/data/csv/final_wind.csv'\n",
    "data_cleaned.to_csv(output_path, index=False)\n",
    "\n",
    "print(f\"删除的行已经被移除，更新后的文件保存在 {output_path}\")\n"
   ]
  },
  {
   "cell_type": "code",
   "execution_count": 11,
   "metadata": {},
   "outputs": [
    {
     "name": "stdout",
     "output_type": "stream",
     "text": [
      "文件行数1156,列数42\n"
     ]
    }
   ],
   "source": [
    "import pandas as pd\n",
    "data = pd.read_csv('/home/develop/VAE/data/csv/final_wind.csv')\n",
    "x,y=data.shape\n",
    "print(f\"文件行数{x},列数{y}\")"
   ]
  },
  {
   "cell_type": "markdown",
   "metadata": {},
   "source": [
    "### 从final_temp.csv文件中随机选取100条数据添加到test_temp.csv中"
   ]
  },
  {
   "cell_type": "code",
   "execution_count": 12,
   "metadata": {},
   "outputs": [],
   "source": [
    "import pandas as pd\n",
    "import numpy as np\n",
    "\n",
    "# 读取 final.csv 和 test.csv 文件\n",
    "final_df = pd.read_csv('/home/develop/VAE/data/csv/final_wind.csv')\n",
    "test_df = pd.read_csv('/home/develop/VAE/data/csv/test_wind.csv')\n",
    "\n",
    "# 随机选取 100 行数据\n",
    "random_rows = final_df.sample(n=100, random_state=42)\n",
    "\n",
    "# 为随机选取的数据添加 origin_index 列，并设置值为 0\n",
    "random_rows['origin_index'] = 0\n",
    "\n",
    "# 将这些随机选取的数据插入到 test_df 中的随机位置\n",
    "insert_position = np.random.randint(0, len(test_df))  # 随机选取插入位置\n",
    "test_df = pd.concat([test_df.iloc[:insert_position], random_rows, test_df.iloc[insert_position:]], ignore_index=True)\n",
    "\n",
    "# 保存更新后的 test.csv 文件\n",
    "test_df.to_csv('/home/develop/VAE/data/csv/test_wind.csv', index=False)"
   ]
  },
  {
   "cell_type": "markdown",
   "metadata": {},
   "source": [
    "### 顺序打散"
   ]
  },
  {
   "cell_type": "code",
   "execution_count": 13,
   "metadata": {},
   "outputs": [
    {
     "name": "stdout",
     "output_type": "stream",
     "text": [
      "The data in test.csv has been shuffled randomly.\n"
     ]
    }
   ],
   "source": [
    "import pandas as pd\n",
    "\n",
    "# 读取 test.csv 文件\n",
    "test_df = pd.read_csv('/home/develop/VAE/data/csv/test_wind.csv')\n",
    "\n",
    "# 随机打乱数据顺序\n",
    "test_df_shuffled = test_df.sample(frac=1, random_state=42).reset_index(drop=True)\n",
    "\n",
    "# 保存打乱顺序后的数据到 test.csv 文件\n",
    "test_df_shuffled.to_csv('/home/develop/VAE/data/csv/test_wind.csv', index=False)\n",
    "\n",
    "print(\"The data in test.csv has been shuffled randomly.\")"
   ]
  },
  {
   "cell_type": "code",
   "execution_count": 15,
   "metadata": {},
   "outputs": [
    {
     "name": "stdout",
     "output_type": "stream",
     "text": [
      "\u001b[1m5/5\u001b[0m \u001b[32m━━━━━━━━━━━━━━━━━━━━\u001b[0m\u001b[37m\u001b[0m \u001b[1m0s\u001b[0m 15ms/step\n"
     ]
    },
    {
     "data": {
      "image/png": "[encoded data removed]",
      "text/plain": [
       "<Figure size 640x480 with 1 Axes>"
      ]
     },
     "metadata": {},
     "output_type": "display_data"
    },
    {
     "name": "stdout",
     "output_type": "stream",
     "text": [
      "Anomalies detected:\n",
      "[643   0   0 608   0   0 644 606 607   0   0 675   0 674   0]\n"
     ]
    }
   ],
   "source": [
    "import os\n",
    "import numpy as np\n",
    "import pandas as pd\n",
    "import tensorflow as tf\n",
    "from tensorflow.keras import layers, Model\n",
    "import matplotlib.pyplot as plt\n",
    "from datetime import datetime\n",
    "\n",
    "# 注册自定义采样函数为可序列化的Keras函数\n",
    "@tf.keras.utils.register_keras_serializable()\n",
    "def sampling(args):\n",
    "    z_mean, z_log_var = args\n",
    "    batch = tf.shape(z_mean)[0]\n",
    "    dim = tf.shape(z_mean)[1]\n",
    "    epsilon = tf.random.normal(shape=(batch, dim))\n",
    "    return z_mean + tf.exp(0.5 * z_log_var) * epsilon\n",
    "\n",
    "kl_loss_weight = 0.1\n",
    "\n",
    "# 注册 VAE 损失函数\n",
    "@tf.keras.utils.register_keras_serializable()\n",
    "def vae_loss(y_true, y_pred):\n",
    "    decoder_output = y_pred[0]\n",
    "    z_mean = y_pred[1]\n",
    "    z_log_var = y_pred[2]\n",
    "    reconstruction_loss_fn = tf.keras.losses.MeanSquaredError()\n",
    "    reconstruction_loss = reconstruction_loss_fn(y_true, decoder_output)\n",
    "    kl_loss = -0.5 * tf.reduce_sum(1 + z_log_var - tf.square(z_mean) - tf.exp(z_log_var), axis=-1)\n",
    "    return reconstruction_loss + kl_loss_weight * tf.reduce_mean(kl_loss)\n",
    "\n",
    "# 数据读取\n",
    "data = pd.read_csv('/home/develop/VAE/data/csv/final_wind.csv')\n",
    "X = data.values\n",
    "\n",
    "input_dim = X.shape[1] \n",
    "\n",
    "def build_vae(input_dim, latent_dim):\n",
    "    # 编码器\n",
    "    input_layer = layers.Input(shape=(input_dim,))\n",
    "    encoder = layers.Dense(64, activation=\"relu\")(input_layer)\n",
    "    encoder = layers.Dense(32, activation=\"relu\")(encoder)\n",
    "    z_mean = layers.Dense(latent_dim)(encoder)\n",
    "    z_log_var = layers.Dense(latent_dim)(encoder)\n",
    "\n",
    "    # 采样层\n",
    "    z = layers.Lambda(sampling, output_shape=(latent_dim,))([z_mean, z_log_var])\n",
    "\n",
    "    # 解码器\n",
    "    decoder = layers.Dense(32, activation=\"relu\")(z)\n",
    "    decoder = layers.Dense(64, activation=\"relu\")(decoder)\n",
    "    decoder_output = layers.Dense(input_dim, activation=\"sigmoid\")(decoder)\n",
    "\n",
    "    vae = Model(input_layer, [decoder_output, z_mean, z_log_var])\n",
    "\n",
    "    return vae\n",
    "\n",
    "# 加载测试集数据\n",
    "test_data = pd.read_csv('/home/develop/VAE/data/csv/test_wind.csv')\n",
    "\n",
    "# 去除 'origin_index' 列\n",
    "X_test = test_data.drop(columns=['origin_index']).values\n",
    "origin_index = test_data['origin_index'].values\n",
    "\n",
    "# 加载已保存的VAE模型\n",
    "vae = tf.keras.models.load_model('/home/develop/VAE/Model/vaeModel.keras')\n",
    "\n",
    "# 使用VAE模型进行预测\n",
    "X_pred = vae.predict(X_test)[0]  # 获取重构数据\n",
    "\n",
    "# 计算重构误差\n",
    "reconstruction_error = np.mean(np.square(X_test - X_pred), axis=1)\n",
    "\n",
    "# 设置阈值为90%百分位\n",
    "threshold = np.percentile(reconstruction_error, 90)\n",
    "\n",
    "# 判定异常数据\n",
    "anomalies = reconstruction_error > threshold\n",
    "\n",
    "# 可视化重构误差分布\n",
    "plt.figure()\n",
    "plt.hist(reconstruction_error, bins=50, edgecolor='k')\n",
    "plt.axvline(x=threshold, color='r', linestyle='--', label=f'Threshold: {threshold:.4f}')\n",
    "plt.xlabel(\"Reconstruction Error\")\n",
    "plt.ylabel(\"Number of Samples\")\n",
    "plt.title(\"Reconstruction Error Distribution\")\n",
    "plt.legend()\n",
    "plt.show()\n",
    "\n",
    "# 输出判定为异常的 origin_index\n",
    "print(\"Anomalies detected:\")\n",
    "print(origin_index[anomalies])\n"
   ]
  }
 ],
 "metadata": {
  "kernelspec": {
   "display_name": "Python 3",
   "language": "python",
   "name": "python3"
  },
  "language_info": {
   "codemirror_mode": {
    "name": "ipython",
    "version": 3
   },
   "file_extension": ".py",
   "mimetype": "text/x-python",
   "name": "python",
   "nbconvert_exporter": "python",
   "pygments_lexer": "ipython3",
   "version": "3.10.4"
  },
  "orig_nbformat": 4
 },
 "nbformat": 4,
 "nbformat_minor": 2
}
