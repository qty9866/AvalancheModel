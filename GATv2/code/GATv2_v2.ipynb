{
 "cells": [
  {
   "cell_type": "markdown",
   "metadata": {},
   "source": [
    "### 手动构造邻接矩阵"
   ]
  },
  {
   "cell_type": "code",
   "execution_count": 3,
   "metadata": {},
   "outputs": [
    {
     "name": "stdout",
     "output_type": "stream",
     "text": [
      "tensor([[ 0,  1,  6,  7, 14, 15],\n",
      "        [ 1,  0,  7,  6, 15, 14]])\n",
      "tensor([[0., 1., 0.,  ..., 0., 0., 0.],\n",
      "        [1., 0., 0.,  ..., 0., 0., 0.],\n",
      "        [0., 0., 0.,  ..., 0., 0., 0.],\n",
      "        ...,\n",
      "        [0., 0., 0.,  ..., 0., 0., 0.],\n",
      "        [0., 0., 0.,  ..., 0., 0., 0.],\n",
      "        [0., 0., 0.,  ..., 0., 0., 0.]])\n",
      "行数42,列数42\n"
     ]
    }
   ],
   "source": [
    "import torch\n",
    "from torch_geometric.utils import dense_to_sparse\n",
    "\n",
    "num_features = 42\n",
    "adj_matrix = torch.zeros((num_features, num_features))  # 初始化邻接矩阵\n",
    "\n",
    "# 设置特征之间的依赖关系\n",
    "# 例如 sensible_heat 和 latent_heat 是完全依赖的\n",
    "# 假设 'sensible_heat' 在第0列，'latent_heat' 在第1列\n",
    "adj_matrix[0, 1] = 1\n",
    "adj_matrix[1, 0] = 1\n",
    "\n",
    "# 如果有更多的依赖关系，继续手动设置\n",
    "# 例如 air_temperature 和 surface_temperature(mod) 之间有依赖\n",
    "adj_matrix[14, 15] = 1\n",
    "adj_matrix[15, 14] = 1\n",
    "\n",
    "# 其它根据需要设置的依赖关系\n",
    "# 例如 net_long_wave_radiation 和 reflected_short_wave_radiation 之间有关系\n",
    "adj_matrix[6, 7] = 1\n",
    "adj_matrix[7, 6] = 1\n",
    "\n",
    "# 将邻接矩阵转换为稀疏格式\n",
    "edge_index = dense_to_sparse(adj_matrix)[0]\n",
    "print(edge_index)\n",
    "print(adj_matrix)\n",
    "x = len(adj_matrix)\n",
    "y = len(adj_matrix[0])\n",
    "print(f'行数{x},列数{y}')"
   ]
  }
 ],
 "metadata": {
  "kernelspec": {
   "display_name": "Python 3 (ipykernel)",
   "language": "python",
   "name": "python3"
  },
  "language_info": {
   "codemirror_mode": {
    "name": "ipython",
    "version": 3
   },
   "file_extension": ".py",
   "mimetype": "text/x-python",
   "name": "python",
   "nbconvert_exporter": "python",
   "pygments_lexer": "ipython3",
   "version": "3.10.4"
  },
  "orig_nbformat": 4
 },
 "nbformat": 4,
 "nbformat_minor": 2
}
