{
 "cells": [
  {
   "cell_type": "code",
   "execution_count": null,
   "metadata": {},
   "outputs": [],
   "source": [
    "import pandas as pd\n",
    "\n",
    "# 读取原始数据\n",
    "data_path = '/home/develop/GATv2-VAE_NewData/data/csv/ceshi_temp.csv'\n",
    "df = pd.read_csv(data_path)\n",
    "\n",
    "# 提取与温度相关的列\n",
    "temperature_columns = [\n",
    "    'ground_temperature',\n",
    "    'air_temperature',\n",
    "    'surface_temperature(mod)',\n",
    "    'bottom_temperature'\n",
    "]\n",
    "\n",
    "# 提取相关列\n",
    "df_temp = df[temperature_columns]\n",
    "\n",
    "# 保存到新的CSV文件\n",
    "output_path = '/home/develop/GATv2-VAE_NewData/data/csv/temp.csv'\n",
    "df_temp.to_csv(output_path, index=False)\n",
    "\n",
    "print(f\"提取的温度相关列已保存至 {output_path}\")\n"
   ]
  }
 ],
 "metadata": {
  "language_info": {
   "name": "python"
  },
  "orig_nbformat": 4
 },
 "nbformat": 4,
 "nbformat_minor": 2
}
